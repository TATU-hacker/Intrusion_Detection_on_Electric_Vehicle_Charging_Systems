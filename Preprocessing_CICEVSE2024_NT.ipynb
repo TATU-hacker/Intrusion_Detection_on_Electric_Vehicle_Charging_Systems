{
 "cells": [
  {
   "cell_type": "code",
   "execution_count": 1,
   "metadata": {},
   "outputs": [],
   "source": [
    "import pandas as pd\n",
    "import os"
   ]
  },
  {
   "cell_type": "code",
   "execution_count": 2,
   "metadata": {},
   "outputs": [],
   "source": [
    "# Define the folder path where your CSV files are stored\n",
    "folder_path = 'CICEVSE2024/EVSE-A'  # Replace with your actual folder path\n",
    "\n",
    "# Get a list of all CSV files in the folder\n",
    "csv_files = [file for file in os.listdir(folder_path) if file.endswith('.csv')]\n",
    "\n",
    "# Initialize an empty list to store DataFrames\n",
    "dataframes = []\n",
    "\n",
    "# Iterate through each CSV file\n",
    "for csv_file in csv_files:\n",
    "    file_path = os.path.join(folder_path, csv_file)\n",
    "    # Read the CSV file into a DataFrame\n",
    "    df = pd.read_csv(file_path, low_memory = False)\n",
    "    # Add a 'Label' column and set its value to the file name (without the extension)\n",
    "    df['Label'] = os.path.splitext(csv_file)[0]\n",
    "    dataframes.append(df)\n",
    "\n",
    "# Concatenate all DataFrames into one\n",
    "df_A = pd.concat(dataframes, ignore_index=True)"
   ]
  },
  {
   "cell_type": "code",
   "execution_count": 3,
   "metadata": {},
   "outputs": [],
   "source": [
    "# Define the folder path where your CSV files are stored\n",
    "folder_path = 'CICEVSE2024/EVSE-B'  # Replace with your actual folder path\n",
    "\n",
    "# Get a list of all CSV files in the folder\n",
    "csv_files = [file for file in os.listdir(folder_path) if file.endswith('.csv')]\n",
    "\n",
    "# Initialize an empty list to store DataFrames\n",
    "dataframes = []\n",
    "\n",
    "# Iterate through each CSV file\n",
    "for csv_file in csv_files:\n",
    "    file_path = os.path.join(folder_path, csv_file)\n",
    "    # Read the CSV file into a DataFrame\n",
    "    df = pd.read_csv(file_path, low_memory = False)\n",
    "    # Add a 'Label' column and set its value to the file name (without the extension)\n",
    "    df['Label'] = os.path.splitext(csv_file)[0]\n",
    "    dataframes.append(df)\n",
    "\n",
    "# Concatenate all DataFrames into one\n",
    "df_B = pd.concat(dataframes, ignore_index=True)"
   ]
  },
  {
   "cell_type": "code",
   "execution_count": 4,
   "metadata": {},
   "outputs": [],
   "source": [
    "# Concatenate dataframes row-wise\n",
    "df = pd.concat([df_A, df_B], axis=0, ignore_index=True)"
   ]
  },
  {
   "cell_type": "code",
   "execution_count": 5,
   "metadata": {},
   "outputs": [
    {
     "name": "stdout",
     "output_type": "stream",
     "text": [
      "<class 'pandas.core.frame.DataFrame'>\n",
      "RangeIndex: 2744700 entries, 0 to 2744699\n",
      "Data columns (total 87 columns):\n",
      " #   Column                        Dtype  \n",
      "---  ------                        -----  \n",
      " 0   id                            int64  \n",
      " 1   expiration_id                 int64  \n",
      " 2   src_ip                        object \n",
      " 3   src_mac                       object \n",
      " 4   src_oui                       object \n",
      " 5   src_port                      int64  \n",
      " 6   dst_ip                        object \n",
      " 7   dst_mac                       object \n",
      " 8   dst_oui                       object \n",
      " 9   dst_port                      int64  \n",
      " 10  protocol                      int64  \n",
      " 11  ip_version                    int64  \n",
      " 12  vlan_id                       int64  \n",
      " 13  tunnel_id                     int64  \n",
      " 14  bidirectional_first_seen_ms   int64  \n",
      " 15  bidirectional_last_seen_ms    int64  \n",
      " 16  bidirectional_duration_ms     int64  \n",
      " 17  bidirectional_packets         int64  \n",
      " 18  bidirectional_bytes           int64  \n",
      " 19  src2dst_first_seen_ms         int64  \n",
      " 20  src2dst_last_seen_ms          int64  \n",
      " 21  src2dst_duration_ms           int64  \n",
      " 22  src2dst_packets               int64  \n",
      " 23  src2dst_bytes                 int64  \n",
      " 24  dst2src_first_seen_ms         int64  \n",
      " 25  dst2src_last_seen_ms          int64  \n",
      " 26  dst2src_duration_ms           int64  \n",
      " 27  dst2src_packets               int64  \n",
      " 28  dst2src_bytes                 int64  \n",
      " 29  bidirectional_min_ps          int64  \n",
      " 30  bidirectional_mean_ps         float64\n",
      " 31  bidirectional_stddev_ps       float64\n",
      " 32  bidirectional_max_ps          int64  \n",
      " 33  src2dst_min_ps                int64  \n",
      " 34  src2dst_mean_ps               float64\n",
      " 35  src2dst_stddev_ps             float64\n",
      " 36  src2dst_max_ps                int64  \n",
      " 37  dst2src_min_ps                int64  \n",
      " 38  dst2src_mean_ps               float64\n",
      " 39  dst2src_stddev_ps             float64\n",
      " 40  dst2src_max_ps                int64  \n",
      " 41  bidirectional_min_piat_ms     int64  \n",
      " 42  bidirectional_mean_piat_ms    float64\n",
      " 43  bidirectional_stddev_piat_ms  float64\n",
      " 44  bidirectional_max_piat_ms     int64  \n",
      " 45  src2dst_min_piat_ms           int64  \n",
      " 46  src2dst_mean_piat_ms          float64\n",
      " 47  src2dst_stddev_piat_ms        float64\n",
      " 48  src2dst_max_piat_ms           int64  \n",
      " 49  dst2src_min_piat_ms           int64  \n",
      " 50  dst2src_mean_piat_ms          float64\n",
      " 51  dst2src_stddev_piat_ms        float64\n",
      " 52  dst2src_max_piat_ms           int64  \n",
      " 53  bidirectional_syn_packets     int64  \n",
      " 54  bidirectional_cwr_packets     int64  \n",
      " 55  bidirectional_ece_packets     int64  \n",
      " 56  bidirectional_urg_packets     int64  \n",
      " 57  bidirectional_ack_packets     int64  \n",
      " 58  bidirectional_psh_packets     int64  \n",
      " 59  bidirectional_rst_packets     int64  \n",
      " 60  bidirectional_fin_packets     int64  \n",
      " 61  src2dst_syn_packets           int64  \n",
      " 62  src2dst_cwr_packets           int64  \n",
      " 63  src2dst_ece_packets           int64  \n",
      " 64  src2dst_urg_packets           int64  \n",
      " 65  src2dst_ack_packets           int64  \n",
      " 66  src2dst_psh_packets           int64  \n",
      " 67  src2dst_rst_packets           int64  \n",
      " 68  src2dst_fin_packets           int64  \n",
      " 69  dst2src_syn_packets           int64  \n",
      " 70  dst2src_cwr_packets           int64  \n",
      " 71  dst2src_ece_packets           int64  \n",
      " 72  dst2src_urg_packets           int64  \n",
      " 73  dst2src_ack_packets           int64  \n",
      " 74  dst2src_psh_packets           int64  \n",
      " 75  dst2src_rst_packets           int64  \n",
      " 76  dst2src_fin_packets           int64  \n",
      " 77  application_name              object \n",
      " 78  application_category_name     object \n",
      " 79  application_is_guessed        int64  \n",
      " 80  application_confidence        int64  \n",
      " 81  requested_server_name         object \n",
      " 82  client_fingerprint            object \n",
      " 83  server_fingerprint            object \n",
      " 84  user_agent                    object \n",
      " 85  content_type                  object \n",
      " 86  Label                         object \n",
      "dtypes: float64(12), int64(61), object(14)\n",
      "memory usage: 1.8+ GB\n"
     ]
    }
   ],
   "source": [
    "df.info()"
   ]
  },
  {
   "cell_type": "code",
   "execution_count": 6,
   "metadata": {},
   "outputs": [
    {
     "name": "stdout",
     "output_type": "stream",
     "text": [
      "Label\n",
      "EVSE-B-MaliciousEV-syn-stealth-scan       228001\n",
      "EVSE-B-charging-syn-stealth               214065\n",
      "EVSE-B-charging-port-scan                 177409\n",
      "EVSE-B-charging-service-detection-scan    165171\n",
      "EVSE-B-MaliciousEV-port-scan              158013\n",
      "EVSE-B-charging-vulnerability-scan        110121\n",
      "EVSE-B-MaliciousEV-service-detection       87089\n",
      "EVSE-B-idle-port-scan                      78145\n",
      "EVSE-B-idle-syn-stealth-scan               73633\n",
      "EVSE-B-charging-os-fingerprinting          67971\n",
      "EVSE-B-idle-tcp-flood                      65564\n",
      "EVSE-B-charging-push-ack-flood             65559\n",
      "EVSE-B-idle-push-ack-flood                 65559\n",
      "EVSE-A-charging-syn-flood                  65558\n",
      "EVSE-A-idle-syn-flood                      65549\n",
      "EVSE-A-charging-synonymous-ip              65548\n",
      "EVSE-B-charging-syn-flood                  65548\n",
      "EVSE-A-charging-tcp-flood                  65547\n",
      "EVSE-B-idle-synonymous-ip-flood            65546\n",
      "EVSE-B-charging-synonymous-ip-flood        65546\n",
      "EVSE-A-idle-synonymous-ip                  65545\n",
      "EVSE-B-charging-tcp-flood                  65543\n",
      "EVSE-B-idle-syn-flood                      65541\n",
      "EVSE-A-idle-tcp-flood                      65540\n",
      "EVSE-A-charging-push-ack-flood             65536\n",
      "EVSE-B-MaliciousEV-vulnerability-scan      57058\n",
      "EVSE-B-idle-vulnerability-scan             51607\n",
      "EVSE-B-idle-os-fingerprinting              45662\n",
      "EVSE-B-charging-aggressive-scan            37872\n",
      "EVSE-B-idle-aggressive-scan                35957\n",
      "EVSE-B-idle-service-detection              33455\n",
      "EVSE-B-MaliciousEV-os-fingerprinting       18259\n",
      "EVSE-B-MaliciousEV-aggressive-scan         16361\n",
      "EVSE-A-charging-Aggressive-scan             9999\n",
      "EVSE-A-charging-vulnerability-scan          9115\n",
      "EVSE-B-charging-udp-flood                   8490\n",
      "EVSE-A-charging-portscan                    8117\n",
      "EVSE-A-idle-udp-flood                       8071\n",
      "EVSE-A-charging-syn-stealth                 8032\n",
      "EVSE-B-idle-udp-flood                       8029\n",
      "EVSE-A-charging-udp-flood                   7885\n",
      "EVSE-A-idle-syn-stealth-scan                7215\n",
      "EVSE-A-idle-portscan                        4975\n",
      "EVSE-A-charging-os-fingerprinting           4764\n",
      "EVSE-A-charging-service-detection           3629\n",
      "EVSE-A-idle-os-fingerprinting               3617\n",
      "EVSE-A-idle-service-detection               3512\n",
      "EVSE-A-idle-vulnerability-scan              3466\n",
      "EVSE-A-idle-aggressive-scan                 2333\n",
      "EVSE-A-idle-slowloris-scan                  2235\n",
      "EVSE-A-charging-slowLoris-scan              1966\n",
      "EVSE-A-idle-benign                            68\n",
      "EVSE-B-charging-icmp-flood                    30\n",
      "EVSE-B-idle-icmp-flood                        30\n",
      "EVSE-A-Charging-Benign                        14\n",
      "EVSE-B-idle-icmp-fragmentation                12\n",
      "EVSE-A-charging-icmp-fragmentation            11\n",
      "EVSE-A-idle-icmp-fragmentation                 5\n",
      "EVSE-A-charging-icmp-flood                     2\n",
      "Name: count, dtype: int64\n"
     ]
    }
   ],
   "source": [
    "print(df['Label'].value_counts())"
   ]
  },
  {
   "cell_type": "code",
   "execution_count": 7,
   "metadata": {},
   "outputs": [
    {
     "name": "stdout",
     "output_type": "stream",
     "text": [
      "['evse-a-charging-aggressive-scan' 'evse-a-charging-benign'\n",
      " 'evse-a-charging-icmp-flood' 'evse-a-charging-icmp-fragmentation'\n",
      " 'evse-a-charging-os-fingerprinting' 'evse-a-charging-portscan'\n",
      " 'evse-a-charging-push-ack-flood' 'evse-a-charging-service-detection'\n",
      " 'evse-a-charging-slowloris-scan' 'evse-a-charging-syn-flood'\n",
      " 'evse-a-charging-syn-stealth' 'evse-a-charging-synonymous-ip'\n",
      " 'evse-a-charging-tcp-flood' 'evse-a-charging-udp-flood'\n",
      " 'evse-a-charging-vulnerability-scan' 'evse-a-idle-aggressive-scan'\n",
      " 'evse-a-idle-benign' 'evse-a-idle-icmp-fragmentation'\n",
      " 'evse-a-idle-os-fingerprinting' 'evse-a-idle-portscan'\n",
      " 'evse-a-idle-service-detection' 'evse-a-idle-slowloris-scan'\n",
      " 'evse-a-idle-syn-flood' 'evse-a-idle-syn-stealth-scan'\n",
      " 'evse-a-idle-synonymous-ip' 'evse-a-idle-tcp-flood'\n",
      " 'evse-a-idle-udp-flood' 'evse-a-idle-vulnerability-scan'\n",
      " 'evse-b-charging-aggressive-scan' 'evse-b-charging-icmp-flood'\n",
      " 'evse-b-charging-os-fingerprinting' 'evse-b-charging-port-scan'\n",
      " 'evse-b-charging-push-ack-flood' 'evse-b-charging-service-detection-scan'\n",
      " 'evse-b-charging-syn-flood' 'evse-b-charging-syn-stealth'\n",
      " 'evse-b-charging-synonymous-ip-flood' 'evse-b-charging-tcp-flood'\n",
      " 'evse-b-charging-udp-flood' 'evse-b-charging-vulnerability-scan'\n",
      " 'evse-b-idle-aggressive-scan' 'evse-b-idle-icmp-flood'\n",
      " 'evse-b-idle-icmp-fragmentation' 'evse-b-idle-os-fingerprinting'\n",
      " 'evse-b-idle-port-scan' 'evse-b-idle-push-ack-flood'\n",
      " 'evse-b-idle-service-detection' 'evse-b-idle-syn-flood'\n",
      " 'evse-b-idle-syn-stealth-scan' 'evse-b-idle-synonymous-ip-flood'\n",
      " 'evse-b-idle-tcp-flood' 'evse-b-idle-udp-flood'\n",
      " 'evse-b-idle-vulnerability-scan' 'evse-b-maliciousev-aggressive-scan'\n",
      " 'evse-b-maliciousev-os-fingerprinting' 'evse-b-maliciousev-port-scan'\n",
      " 'evse-b-maliciousev-service-detection'\n",
      " 'evse-b-maliciousev-syn-stealth-scan'\n",
      " 'evse-b-maliciousev-vulnerability-scan']\n"
     ]
    }
   ],
   "source": [
    "# Convert all values in the 'Label' column to lowercase\n",
    "df['Label'] = df['Label'].str.lower()\n",
    "\n",
    "# Verify the changes\n",
    "print(df['Label'].unique())"
   ]
  },
  {
   "cell_type": "code",
   "execution_count": 8,
   "metadata": {},
   "outputs": [],
   "source": [
    "# Assuming df is your DataFrame\n",
    "df['Label'] = df['Label'].str.replace('evse-b-maliciousev-', '', regex=False)\n",
    "df['Label'] = df['Label'].str.replace('evse-a-charging-', '', regex=False)\n",
    "df['Label'] = df['Label'].str.replace('evse-a-idle-', '', regex=False)\n",
    "df['Label'] = df['Label'].str.replace('evse-b-charging-', '', regex=False)\n",
    "df['Label'] = df['Label'].str.replace('evse-b-idle-', '', regex=False)"
   ]
  },
  {
   "cell_type": "code",
   "execution_count": 9,
   "metadata": {},
   "outputs": [],
   "source": [
    "# Define the mapping dictionary\n",
    "label_mapping = {\n",
    "    'aggressive-scan':'Aggressive_Scan',\n",
    "    'benign':'Benign',\n",
    "    'icmp-flood':'ICMP_Flood',\n",
    "    'icmp-fragmentation':'ICMP_Fragmentation',\n",
    "    'os-fingerprinting':'OS_Fingerprinting',\n",
    "    'portscan':'TCP_Port_Scan',\n",
    "    'push-ack-flood':'PSHACK_Flood',\n",
    "    'service-detection':'Service_Version_Detection',\n",
    "    'slowloris-scan':'Slowloris_Scan',\n",
    "    'syn-flood':'SYN_Flood',\n",
    "    'syn-stealth':'SYN_Stealth_Scan',\n",
    "    'synonymous-ip':'SynonymousIP_Flood',\n",
    "    'tcp-flood':'TCP_Flood',\n",
    "    'udp-flood':'UDP_Flood',\n",
    "    'vulnerability-scan':'Vulnerability_Scan',\n",
    "    'syn-stealth-scan':'SYN_Stealth_Scan',\n",
    "    'port-scan':'TCP_Port_Scan',\n",
    "    'service-detection-scan':'Service_Version_Detection',\n",
    "    'synonymous-ip-flood':'SynonymousIP_Flood'\n",
    "}\n",
    "\n",
    "# Apply the mapping to the 'Label' column\n",
    "df['Label'] = df['Label'].replace(label_mapping)"
   ]
  },
  {
   "cell_type": "code",
   "execution_count": 10,
   "metadata": {},
   "outputs": [
    {
     "name": "stdout",
     "output_type": "stream",
     "text": [
      "Label\n",
      "SYN_Stealth_Scan             530946\n",
      "TCP_Port_Scan                426659\n",
      "Service_Version_Detection    292856\n",
      "SYN_Flood                    262196\n",
      "TCP_Flood                    262194\n",
      "SynonymousIP_Flood           262185\n",
      "Vulnerability_Scan           231367\n",
      "PSHACK_Flood                 196654\n",
      "OS_Fingerprinting            140273\n",
      "Aggressive_Scan              102522\n",
      "UDP_Flood                     32475\n",
      "Slowloris_Scan                 4201\n",
      "Benign                           82\n",
      "ICMP_Flood                       62\n",
      "ICMP_Fragmentation               28\n",
      "Name: count, dtype: int64\n"
     ]
    }
   ],
   "source": [
    "print(df['Label'].value_counts())"
   ]
  },
  {
   "cell_type": "code",
   "execution_count": 11,
   "metadata": {},
   "outputs": [],
   "source": [
    "# Calculate the percentage of zeros in each column\n",
    "percentage_zeros = (df == 0).mean() * 100\n",
    "\n",
    "# Identify columns where the percentage of zeros is greater than 80%\n",
    "columns_to_drop = percentage_zeros[percentage_zeros > 80].index\n",
    "\n",
    "# Drop these columns from the DataFrame\n",
    "df.drop(columns=columns_to_drop, inplace=True)"
   ]
  },
  {
   "cell_type": "code",
   "execution_count": 12,
   "metadata": {},
   "outputs": [
    {
     "data": {
      "text/plain": [
       "id                                    0\n",
       "src_ip                                0\n",
       "src_mac                               0\n",
       "src_oui                               0\n",
       "src_port                              0\n",
       "dst_ip                                0\n",
       "dst_mac                               0\n",
       "dst_oui                               0\n",
       "dst_port                              0\n",
       "protocol                              0\n",
       "ip_version                            0\n",
       "bidirectional_first_seen_ms           0\n",
       "bidirectional_last_seen_ms            0\n",
       "bidirectional_duration_ms             0\n",
       "bidirectional_packets                 0\n",
       "bidirectional_bytes                   0\n",
       "src2dst_first_seen_ms                 0\n",
       "src2dst_last_seen_ms                  0\n",
       "src2dst_duration_ms                   0\n",
       "src2dst_packets                       0\n",
       "src2dst_bytes                         0\n",
       "dst2src_first_seen_ms                 0\n",
       "dst2src_last_seen_ms                  0\n",
       "dst2src_packets                       0\n",
       "dst2src_bytes                         0\n",
       "bidirectional_min_ps                  0\n",
       "bidirectional_mean_ps                 0\n",
       "bidirectional_max_ps                  0\n",
       "src2dst_min_ps                        0\n",
       "src2dst_mean_ps                       0\n",
       "src2dst_max_ps                        0\n",
       "dst2src_min_ps                        0\n",
       "dst2src_mean_ps                       0\n",
       "dst2src_max_ps                        0\n",
       "bidirectional_min_piat_ms             0\n",
       "bidirectional_mean_piat_ms            0\n",
       "bidirectional_stddev_piat_ms          0\n",
       "bidirectional_max_piat_ms             0\n",
       "src2dst_min_piat_ms                   0\n",
       "src2dst_mean_piat_ms                  0\n",
       "src2dst_stddev_piat_ms                0\n",
       "src2dst_max_piat_ms                   0\n",
       "bidirectional_syn_packets             0\n",
       "bidirectional_ack_packets             0\n",
       "bidirectional_rst_packets             0\n",
       "src2dst_syn_packets                   0\n",
       "dst2src_ack_packets                   0\n",
       "dst2src_rst_packets                   0\n",
       "application_name                      0\n",
       "application_category_name             0\n",
       "application_is_guessed                0\n",
       "application_confidence                0\n",
       "requested_server_name           2743911\n",
       "client_fingerprint              2744102\n",
       "server_fingerprint              2744162\n",
       "user_agent                      2744167\n",
       "content_type                    2744559\n",
       "Label                                 0\n",
       "dtype: int64"
      ]
     },
     "execution_count": 12,
     "metadata": {},
     "output_type": "execute_result"
    }
   ],
   "source": [
    "df.isnull().sum()"
   ]
  },
  {
   "cell_type": "code",
   "execution_count": 13,
   "metadata": {},
   "outputs": [
    {
     "name": "stdout",
     "output_type": "stream",
     "text": [
      "requested_server_name\n",
      "espressif.mshome.net                                                        319\n",
      "192.168.137.15                                                              168\n",
      "connectivity-check.ubuntu.com                                               107\n",
      "ocpp.unitedchargers.com                                                      72\n",
      "192.168.137.226                                                              66\n",
      "evse                                                                         11\n",
      "_pgpkey-hkp._tcp.local                                                       10\n",
      "metrics.ubuntu.com                                                            8\n",
      "192.168.137.87                                                                5\n",
      "_nfs._tcp.local                                                               4\n",
      "15.137.168.192.in-addr.arpa                                                   3\n",
      "connect-api.unitedchargers.com                                                3\n",
      "_ftp._tcp.local                                                               2\n",
      "b.c.1.d.0.e.c.6.8.e.6.8.6.7.c.d.0.0.0.0.0.0.0.0.0.0.0.0.0.8.e.f.ip6.arpa      2\n",
      "239.255.255.250:1900                                                          2\n",
      "_netatmo-lcomm._tcp.local                                                     2\n",
      "apicom.netatmo.net                                                            2\n",
      "time.apple.com                                                                1\n",
      "espressif                                                                     1\n",
      "198.137.168.192.in-addr.arpa                                                  1\n",
      "Name: count, dtype: int64\n"
     ]
    }
   ],
   "source": [
    "print(df['requested_server_name'].value_counts())"
   ]
  },
  {
   "cell_type": "code",
   "execution_count": 14,
   "metadata": {},
   "outputs": [
    {
     "name": "stdout",
     "output_type": "stream",
     "text": [
      "client_fingerprint\n",
      "E788C657D1A22971D5026526FFD2E918                   400\n",
      "3C0FD089C7135D88C6319124FC5A15D2                    89\n",
      "66b75e8e7c942d026841611272270020                    47\n",
      "10b24dcfa930c67e66ddb1bc058c09ed                    47\n",
      "1,2,6,12,15,26,28,121,3,33,40,41,42,119,249,252     11\n",
      "bb32cf215dd58fdee6573e65933e6c55                     2\n",
      "1,3,28,6                                             1\n",
      "e4d448cdfe06dc1243c1eb026c74ac9a                     1\n",
      "Name: count, dtype: int64\n"
     ]
    }
   ],
   "source": [
    "print(df['client_fingerprint'].value_counts())"
   ]
  },
  {
   "cell_type": "code",
   "execution_count": 15,
   "metadata": {},
   "outputs": [
    {
     "name": "stdout",
     "output_type": "stream",
     "text": [
      "server_fingerprint\n",
      "41FF3ECD1458B0BF86E1B4891636213E    489\n",
      "466556e923186364e82cbdb4cad8df2c     46\n",
      "28ef90cc3d9d08c96a8a2cb6f365a79e      2\n",
      "22a29273c84f24c87ea605eb553e276c      1\n",
      "Name: count, dtype: int64\n"
     ]
    }
   ],
   "source": [
    "print(df['server_fingerprint'].value_counts())"
   ]
  },
  {
   "cell_type": "code",
   "execution_count": 16,
   "metadata": {},
   "outputs": [
    {
     "name": "stdout",
     "output_type": "stream",
     "text": [
      "user_agent\n",
      "Mozilla/5.0 (compatible; Nmap Scripting Engine; https://nmap.org/book/nse.html)    528\n",
      "Python/3.10 websockets/12.0                                                          5\n",
      "Name: count, dtype: int64\n"
     ]
    }
   ],
   "source": [
    "print(df['user_agent'].value_counts())"
   ]
  },
  {
   "cell_type": "code",
   "execution_count": 17,
   "metadata": {},
   "outputs": [
    {
     "name": "stdout",
     "output_type": "stream",
     "text": [
      "content_type\n",
      "text/html    141\n",
      "Name: count, dtype: int64\n"
     ]
    }
   ],
   "source": [
    "print(df['content_type'].value_counts())"
   ]
  },
  {
   "cell_type": "code",
   "execution_count": 18,
   "metadata": {},
   "outputs": [],
   "source": [
    "# Remove unnecessary columns\n",
    "df = df.drop(columns=['requested_server_name', 'client_fingerprint', 'server_fingerprint', 'user_agent', 'content_type'])"
   ]
  },
  {
   "cell_type": "code",
   "execution_count": 19,
   "metadata": {},
   "outputs": [
    {
     "name": "stdout",
     "output_type": "stream",
     "text": [
      "<class 'pandas.core.frame.DataFrame'>\n",
      "RangeIndex: 2744700 entries, 0 to 2744699\n",
      "Data columns (total 53 columns):\n",
      " #   Column                        Dtype  \n",
      "---  ------                        -----  \n",
      " 0   id                            int64  \n",
      " 1   src_ip                        object \n",
      " 2   src_mac                       object \n",
      " 3   src_oui                       object \n",
      " 4   src_port                      int64  \n",
      " 5   dst_ip                        object \n",
      " 6   dst_mac                       object \n",
      " 7   dst_oui                       object \n",
      " 8   dst_port                      int64  \n",
      " 9   protocol                      int64  \n",
      " 10  ip_version                    int64  \n",
      " 11  bidirectional_first_seen_ms   int64  \n",
      " 12  bidirectional_last_seen_ms    int64  \n",
      " 13  bidirectional_duration_ms     int64  \n",
      " 14  bidirectional_packets         int64  \n",
      " 15  bidirectional_bytes           int64  \n",
      " 16  src2dst_first_seen_ms         int64  \n",
      " 17  src2dst_last_seen_ms          int64  \n",
      " 18  src2dst_duration_ms           int64  \n",
      " 19  src2dst_packets               int64  \n",
      " 20  src2dst_bytes                 int64  \n",
      " 21  dst2src_first_seen_ms         int64  \n",
      " 22  dst2src_last_seen_ms          int64  \n",
      " 23  dst2src_packets               int64  \n",
      " 24  dst2src_bytes                 int64  \n",
      " 25  bidirectional_min_ps          int64  \n",
      " 26  bidirectional_mean_ps         float64\n",
      " 27  bidirectional_max_ps          int64  \n",
      " 28  src2dst_min_ps                int64  \n",
      " 29  src2dst_mean_ps               float64\n",
      " 30  src2dst_max_ps                int64  \n",
      " 31  dst2src_min_ps                int64  \n",
      " 32  dst2src_mean_ps               float64\n",
      " 33  dst2src_max_ps                int64  \n",
      " 34  bidirectional_min_piat_ms     int64  \n",
      " 35  bidirectional_mean_piat_ms    float64\n",
      " 36  bidirectional_stddev_piat_ms  float64\n",
      " 37  bidirectional_max_piat_ms     int64  \n",
      " 38  src2dst_min_piat_ms           int64  \n",
      " 39  src2dst_mean_piat_ms          float64\n",
      " 40  src2dst_stddev_piat_ms        float64\n",
      " 41  src2dst_max_piat_ms           int64  \n",
      " 42  bidirectional_syn_packets     int64  \n",
      " 43  bidirectional_ack_packets     int64  \n",
      " 44  bidirectional_rst_packets     int64  \n",
      " 45  src2dst_syn_packets           int64  \n",
      " 46  dst2src_ack_packets           int64  \n",
      " 47  dst2src_rst_packets           int64  \n",
      " 48  application_name              object \n",
      " 49  application_category_name     object \n",
      " 50  application_is_guessed        int64  \n",
      " 51  application_confidence        int64  \n",
      " 52  Label                         object \n",
      "dtypes: float64(7), int64(37), object(9)\n",
      "memory usage: 1.1+ GB\n"
     ]
    }
   ],
   "source": [
    "df.info()"
   ]
  },
  {
   "cell_type": "code",
   "execution_count": 20,
   "metadata": {},
   "outputs": [],
   "source": [
    "# Remove unnecessary columns\n",
    "df = df.drop(columns=['id', 'src_ip', 'src_mac', 'src_oui', 'src_port', 'dst_ip', 'dst_mac', 'dst_oui', 'dst_port', 'application_name', 'application_category_name'])"
   ]
  },
  {
   "cell_type": "code",
   "execution_count": 21,
   "metadata": {},
   "outputs": [
    {
     "data": {
      "text/plain": [
       "1467333"
      ]
     },
     "execution_count": 21,
     "metadata": {},
     "output_type": "execute_result"
    }
   ],
   "source": [
    "df.duplicated().sum()"
   ]
  },
  {
   "cell_type": "code",
   "execution_count": 22,
   "metadata": {},
   "outputs": [],
   "source": [
    "df = df.drop_duplicates()"
   ]
  },
  {
   "cell_type": "code",
   "execution_count": 23,
   "metadata": {},
   "outputs": [
    {
     "name": "stdout",
     "output_type": "stream",
     "text": [
      "Label\n",
      "SYN_Flood                    259481\n",
      "SynonymousIP_Flood           256730\n",
      "TCP_Flood                    256315\n",
      "PSHACK_Flood                 195952\n",
      "SYN_Stealth_Scan              77278\n",
      "TCP_Port_Scan                 64455\n",
      "Service_Version_Detection     46334\n",
      "Vulnerability_Scan            38023\n",
      "UDP_Flood                     32475\n",
      "OS_Fingerprinting             26080\n",
      "Aggressive_Scan               21762\n",
      "Slowloris_Scan                 2340\n",
      "Benign                           82\n",
      "ICMP_Flood                       32\n",
      "ICMP_Fragmentation               28\n",
      "Name: count, dtype: int64\n"
     ]
    }
   ],
   "source": [
    "print(df['Label'].value_counts())"
   ]
  },
  {
   "cell_type": "code",
   "execution_count": 24,
   "metadata": {},
   "outputs": [],
   "source": [
    "df.to_csv('CICEVSE2024_NT.csv', index=False)"
   ]
  }
 ],
 "metadata": {
  "kaggle": {
   "accelerator": "none",
   "dataSources": [
    {
     "datasetId": 4479111,
     "sourceId": 7677994,
     "sourceType": "datasetVersion"
    }
   ],
   "dockerImageVersionId": 30732,
   "isGpuEnabled": false,
   "isInternetEnabled": true,
   "language": "python",
   "sourceType": "notebook"
  },
  "kernelspec": {
   "display_name": "Python 3 (ipykernel)",
   "language": "python",
   "name": "python3"
  },
  "language_info": {
   "codemirror_mode": {
    "name": "ipython",
    "version": 3
   },
   "file_extension": ".py",
   "mimetype": "text/x-python",
   "name": "python",
   "nbconvert_exporter": "python",
   "pygments_lexer": "ipython3",
   "version": "3.10.13"
  }
 },
 "nbformat": 4,
 "nbformat_minor": 4
}
